{
 "cells": [
  {
   "cell_type": "markdown",
   "metadata": {},
   "source": [
    "<H1 align='center'>Predicting Gender from name using LSTM</H1>\n",
    "<p align='justify'>This is a dead simple code for predicting Gender from name. Its based on a type of recurrent neural network called <B>LSTM</B> or <B>L</B>ong <B>S</B>hort <B>T</B>erm <B>M</B>emory Network. Feature vector was created using n-gram. Dataset was collected from https://data.world/howarder/gender-by-name . This dataset also has a probability column which shows extreme level of accuracy. So far I got 82% in training and testing. This is a work in progress which may improve gradually later. Hope someone may get some help from it. The method shown here is nowhere near perfect and may even be bad. So I hope people would suggest better things. But its really wonderful to see how this little piece of code that ran may be for 10-15 minutes can be this accurate.</p>\n",
    "So we begin by importing the necessary modules."
   ]
  },
  {
   "cell_type": "code",
   "execution_count": null,
   "metadata": {},
   "outputs": [],
   "source": [
    "from keras.preprocessing.sequence import pad_sequences\n",
    "import pandas as pd\n",
    "import numpy as np\n",
    "from sklearn.model_selection import train_test_split\n",
    "from keras.models import Sequential\n",
    "from keras.layers import Conv1D,Embedding,LSTM,Dense, Activation\n",
    "from keras.callbacks import ModelCheckpoint"
   ]
  },
  {
   "cell_type": "markdown",
   "metadata": {},
   "source": [
    "Now we load out dataset and make it lowercase immediately to avoid duplication. What this duplication is will be explained later. "
   ]
  },
  {
   "cell_type": "code",
   "execution_count": 2,
   "metadata": {},
   "outputs": [],
   "source": [
    "rd=pd.read_csv('name_gender.csv')\n",
    "rd['name']=rd['name'].str.lower()"
   ]
  },
  {
   "cell_type": "markdown",
   "metadata": {},
   "source": [
    "<p align='justify'>Now we talk about what N-gram basically is. Say you have a word \"Apple\". The N of N-gram is actually a number. So a 2 gram representation would be ['Ap','pp','pl','le']. 3-gram would be ['App','ple'] and so on. Now why did I chose this? I actually googled once about this and the concept of n-gram was in one of the search results. It clicked my mind that a name like 'Razia' would have 'ia' at the end which would sound female(I dont know the naming scheme of all countries.) and a name like \"george\" would have a \"ge\" which would sound male. Well this logic is not the best thing there is of course but I tried with this approach. The first function returns a list of N-grams.</p>"
   ]
  },
  {
   "cell_type": "code",
   "execution_count": 3,
   "metadata": {},
   "outputs": [],
   "source": [
    "def ngrams(input, n):\n",
    "  output = []\n",
    "  for i in range(len(input)-n+1):\n",
    "    output.append(input[i:i+n])\n",
    "  return output\n",
    "def n_gram_dict(names):\n",
    "    out_dict={}\n",
    "    temp_arr=[]\n",
    "    k=2\n",
    "    for i in names:\n",
    "        ng=ngrams(i,2)\n",
    "        for ngram in ng:\n",
    "            if ngram not in out_dict:\n",
    "                out_dict[ngram]=k\n",
    "                k=k+1\n",
    "    return out_dict"
   ]
  },
  {
   "cell_type": "markdown",
   "metadata": {},
   "source": [
    "<p align='justify'>the second function is for our machine learning model specifically. What it does is, it creates a dictionary that contains a number against each n-gram. For example, say we had a name 'Imran'. the 2-gram representation would be ['im','mr','ra','an']. Now machine learning works with numbers. So our dictionary for these n-grams would be {'im':2,'mr':3,'ra':4,'an':5} and so on.k=2 was chosen randomly to make sure our padding doesnt mess around with real data.</p>"
   ]
  },
  {
   "cell_type": "code",
   "execution_count": 4,
   "metadata": {},
   "outputs": [],
   "source": [
    "#convert each ngram to index\n",
    "dictionary_of_ngrams=n_gram_dict(rd.name)\n",
    "list_feature=[]\n",
    "for name in rd.name:\n",
    "    ng_name=ngrams(name,2)\n",
    "    ngram_token=[dictionary_of_ngrams[ng] for ng in ng_name]\n",
    "    list_feature.append(ngram_token)\n",
    "feature_vector=pad_sequences(list_feature)\n",
    "target=pd.get_dummies(rd.gender)\n",
    "train_X,test_X,train_Y,test_Y=train_test_split(feature_vector,target,test_size=0.2)"
   ]
  },
  {
   "cell_type": "markdown",
   "metadata": {},
   "source": [
    "<p align='justify'>Now we create our dictionary. Then we convert each name into n-grams then replace each n-gram with its index and that would be our feature vector.We also added padding means the smaller names had less number of n-grams than bigger names so we filled those with 0. We also convert our target vector to one hot representation.</p> "
   ]
  },
  {
   "cell_type": "code",
   "execution_count": null,
   "metadata": {},
   "outputs": [],
   "source": [
    "model=Sequential()\n",
    "model.add(Embedding(100, 40,input_length = train_X.shape[1], dropout = 0.2))\n",
    "model.add(Conv1D(32,(2,),activation='relu'))\n",
    "model.add(LSTM(100,dropout_U = 0.2, dropout_W = 0.2))\n",
    "model.add(Dense(2,activation='softmax'))\n",
    "model.compile(loss = 'categorical_crossentropy', optimizer='adadelta',metrics = ['accuracy'])\n",
    "print(model.summary())"
   ]
  },
  {
   "cell_type": "markdown",
   "metadata": {},
   "source": [
    "<p align='justify'>Our model consists of an Embedding layer and then a 1-D convolution layer which was placed after several experimentation and was seen to have positive effects on accuracy.Then our LSTM layer and later a softmax layer for output. 3 optimizers were tested 'adam','adadelta' and 'rmsprop' where adadelta and adam showed best results during training.</p>"
   ]
  },
  {
   "cell_type": "code",
   "execution_count": 6,
   "metadata": {},
   "outputs": [
    {
     "name": "stderr",
     "output_type": "stream",
     "text": [
      "c:\\users\\shovon\\appdata\\local\\programs\\python\\python36\\lib\\site-packages\\keras\\models.py:942: UserWarning: The `nb_epoch` argument in `fit` has been renamed `epochs`.\n",
      "  warnings.warn('The `nb_epoch` argument in `fit` '\n"
     ]
    },
    {
     "name": "stdout",
     "output_type": "stream",
     "text": [
      "Train on 68418 samples, validate on 7602 samples\n",
      "Epoch 1/10\n",
      "68418/68418 [==============================] - 69s 1ms/step - loss: 0.4841 - acc: 0.7497 - val_loss: 0.4181 - val_acc: 0.7969\n",
      "\n",
      "Epoch 00001: val_loss improved from inf to 0.41806, saving model to weights_name.hdf5\n",
      "Epoch 2/10\n",
      "68418/68418 [==============================] - 61s 892us/step - loss: 0.4258 - acc: 0.7911 - val_loss: 0.4153 - val_acc: 0.7928\n",
      "\n",
      "Epoch 00002: val_loss improved from 0.41806 to 0.41535, saving model to weights_name.hdf5\n",
      "Epoch 3/10\n",
      "68418/68418 [==============================] - 62s 902us/step - loss: 0.4162 - acc: 0.7973 - val_loss: 0.3981 - val_acc: 0.8103\n",
      "\n",
      "Epoch 00003: val_loss improved from 0.41535 to 0.39812, saving model to weights_name.hdf5\n",
      "Epoch 4/10\n",
      "68418/68418 [==============================] - 61s 893us/step - loss: 0.4127 - acc: 0.8011 - val_loss: 0.3978 - val_acc: 0.8135\n",
      "\n",
      "Epoch 00004: val_loss improved from 0.39812 to 0.39781, saving model to weights_name.hdf5\n",
      "Epoch 5/10\n",
      "68418/68418 [==============================] - 63s 918us/step - loss: 0.4086 - acc: 0.8034 - val_loss: 0.3910 - val_acc: 0.8145\n",
      "\n",
      "Epoch 00005: val_loss improved from 0.39781 to 0.39097, saving model to weights_name.hdf5\n",
      "Epoch 6/10\n",
      "68418/68418 [==============================] - 61s 895us/step - loss: 0.4054 - acc: 0.8055 - val_loss: 0.3877 - val_acc: 0.8165\n",
      "\n",
      "Epoch 00006: val_loss improved from 0.39097 to 0.38766, saving model to weights_name.hdf5\n",
      "Epoch 7/10\n",
      "68418/68418 [==============================] - 63s 917us/step - loss: 0.4010 - acc: 0.8102 - val_loss: 0.3871 - val_acc: 0.8198\n",
      "\n",
      "Epoch 00007: val_loss improved from 0.38766 to 0.38705, saving model to weights_name.hdf5\n",
      "Epoch 8/10\n",
      "68418/68418 [==============================] - 61s 892us/step - loss: 0.3981 - acc: 0.8103 - val_loss: 0.3824 - val_acc: 0.8235\n",
      "\n",
      "Epoch 00008: val_loss improved from 0.38705 to 0.38237, saving model to weights_name.hdf5\n",
      "Epoch 9/10\n",
      "68418/68418 [==============================] - 61s 890us/step - loss: 0.3951 - acc: 0.8123 - val_loss: 0.3833 - val_acc: 0.8210\n",
      "\n",
      "Epoch 00009: val_loss did not improve\n",
      "Epoch 10/10\n",
      "68418/68418 [==============================] - 65s 948us/step - loss: 0.3930 - acc: 0.8140 - val_loss: 0.3765 - val_acc: 0.8247\n",
      "\n",
      "Epoch 00010: val_loss improved from 0.38237 to 0.37651, saving model to weights_name.hdf5\n"
     ]
    }
   ],
   "source": [
    "checkpointer = ModelCheckpoint(filepath='weights_name.hdf5', verbose=1, save_best_only=True)\n",
    "model.fit(train_X,train_Y,batch_size=100,nb_epoch=10,validation_split=0.1,callbacks=[checkpointer])\n",
    "with open('model_name.json','w') as f:\n",
    "    f.write(model.to_json())"
   ]
  },
  {
   "cell_type": "code",
   "execution_count": 7,
   "metadata": {},
   "outputs": [
    {
     "name": "stdout",
     "output_type": "stream",
     "text": [
      "19005/19005 [==============================] - 4s 225us/step\n"
     ]
    },
    {
     "data": {
      "text/plain": [
       "[0.38637625516613544, 0.8168376720883099]"
      ]
     },
     "execution_count": 7,
     "metadata": {},
     "output_type": "execute_result"
    }
   ],
   "source": [
    "# time for some testing\n",
    "model.evaluate(test_X,test_Y,batch_size=100)"
   ]
  },
  {
   "cell_type": "markdown",
   "metadata": {},
   "source": [
    "The evaluation shows a score of 0.82 which is not bad for may be an 1 hour experiment."
   ]
  },
  {
   "cell_type": "code",
   "execution_count": 11,
   "metadata": {},
   "outputs": [
    {
     "name": "stdout",
     "output_type": "stream",
     "text": [
      "name: abir Gender Male\n",
      "name: amrin Gender Male\n",
      "name: razia Gender Female\n",
      "name: michel Gender Male\n",
      "name: michelle Gender Female\n",
      "name: bappy Gender Male\n",
      "name: rasim Gender Male\n",
      "name: muhaimin Gender Male\n",
      "name: imran Gender Male\n",
      "name: vicky Gender Male\n",
      "name: mohona Gender Female\n",
      "name: sadia Gender Female\n",
      "name: troyee Gender Female\n",
      "name: rushafi Gender Male\n",
      "name: irtiza Gender Female\n"
     ]
    }
   ],
   "source": [
    "def predict_gender(name):\n",
    "    gender=['Female','Male']\n",
    "    name=name.lower()\n",
    "    ng_name=ngrams(name,2)\n",
    "    ngram_token=[dictionary_of_ngrams[ng] for ng in ng_name]\n",
    "    feature_vector=pad_sequences([ngram_token],maxlen=14)\n",
    "    pred=model.predict(feature_vector)\n",
    "    result=np.argmax(pred)\n",
    "    print(\"name:\",name,\"Gender\",gender[result])\n",
    "predict_gender('Abir')\n",
    "predict_gender('Amrin')\n",
    "predict_gender('Razia')\n",
    "predict_gender('Michel')\n",
    "predict_gender('Michelle')\n",
    "predict_gender('Bappy')\n",
    "predict_gender('Rasim')\n",
    "predict_gender('Muhaimin')\n",
    "predict_gender('Imran')\n",
    "predict_gender('Vicky')\n",
    "predict_gender('Mohona')\n",
    "predict_gender('Sadia')\n",
    "predict_gender('Troyee')\n",
    "predict_gender('Rushafi')\n",
    "predict_gender('Irtiza')\n",
    "\n",
    "\n"
   ]
  },
  {
   "cell_type": "markdown",
   "metadata": {},
   "source": [
    "Here we test some random names. pad_sequences function ahas a maxlen of 14 which was taken from training data padding."
   ]
  }
 ],
 "metadata": {
  "kernelspec": {
   "display_name": "Python 3",
   "language": "python",
   "name": "python3"
  },
  "language_info": {
   "codemirror_mode": {
    "name": "ipython",
    "version": 3
   },
   "file_extension": ".py",
   "mimetype": "text/x-python",
   "name": "python",
   "nbconvert_exporter": "python",
   "pygments_lexer": "ipython3",
   "version": "3.6.2"
  }
 },
 "nbformat": 4,
 "nbformat_minor": 2
}
